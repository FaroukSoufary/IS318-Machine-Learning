{
 "cells": [
  {
   "cell_type": "markdown",
   "id": "6eb65e3a-cec6-464a-b4c9-d657c048f3f1",
   "metadata": {
    "deletable": false,
    "editable": false,
    "nbgrader": {
     "cell_type": "markdown",
     "checksum": "2e75315912c1a1649b5f0daf8d8526a1",
     "grade": false,
     "grade_id": "cell-6423b43f63e98896",
     "locked": true,
     "schema_version": 3,
     "solution": false,
     "task": false
    },
    "tags": []
   },
   "source": [
    "# IS318 - Machine Learning\n",
    "\n",
    "## TP1 - Linear regression\n",
    "\n",
    "The goal of this TP is to experiment with linear regression and polynomial linear regression.\n",
    "\n",
    "First, we will work **without** the use of external libraries (such as `scikit-learn`)."
   ]
  },
  {
   "cell_type": "code",
   "execution_count": 2,
   "id": "64a5a2b2-ef6b-4af6-8de0-e93c00052419",
   "metadata": {
    "deletable": false,
    "editable": false,
    "nbgrader": {
     "cell_type": "code",
     "checksum": "8db2d123d60ab5c5c872b3b5f6df388c",
     "grade": false,
     "grade_id": "cell-8ce3af50a30c576b",
     "locked": true,
     "schema_version": 3,
     "solution": false,
     "task": false
    },
    "tags": []
   },
   "outputs": [],
   "source": [
    "import numpy as np\n",
    "import matplotlib.pyplot as plt"
   ]
  },
  {
   "cell_type": "markdown",
   "id": "1b798d95-ee40-470c-9efe-6f73513acabe",
   "metadata": {
    "deletable": false,
    "editable": false,
    "nbgrader": {
     "cell_type": "markdown",
     "checksum": "f54357d640bdb3dc931efa0ff5d1a0b2",
     "grade": false,
     "grade_id": "cell-1a7c1f6d67f2f2c0",
     "locked": true,
     "schema_version": 3,
     "solution": false,
     "task": false
    },
    "tags": []
   },
   "source": [
    "### 1. Dataset"
   ]
  },
  {
   "cell_type": "code",
   "execution_count": 15,
   "id": "a10f1001-e8c3-44fd-a7b6-db63519bfd58",
   "metadata": {
    "deletable": false,
    "editable": false,
    "nbgrader": {
     "cell_type": "code",
     "checksum": "e5de1fe7d5aaae1875c4a69b0c08ca52",
     "grade": false,
     "grade_id": "cell-88e65b981197691f",
     "locked": true,
     "schema_version": 3,
     "solution": false,
     "task": false
    },
    "tags": []
   },
   "outputs": [
    {
     "data": {
      "image/png": "[encoded data removed]",
      "text/plain": [
       "<Figure size 640x480 with 1 Axes>"
      ]
     },
     "metadata": {},
     "output_type": "display_data"
    }
   ],
   "source": [
    "# Let us generate data points from a relatively complicated function\n",
    "N = 100\n",
    "alpha, sigma = 2., 3.\n",
    "X = np.linspace(-3, 3, num=N)\n",
    "y = X + (alpha * np.sin((2. * np.pi * X) / sigma) * np.exp(-(X ** 2) / (sigma ** 2)))\n",
    "# Add some random noise\n",
    "rng = np.random.default_rng(42)\n",
    "y_noisy = y + rng.standard_normal(N) * 2.\n",
    "# Show the data points\n",
    "plt.plot(X, y_noisy, 'o')\n",
    "plt.plot(X, y)\n",
    "plt.tight_layout()"
   ]
  },
  {
   "cell_type": "markdown",
   "id": "b2aee466-b495-4f4d-a2ca-739de04b8c8a",
   "metadata": {
    "deletable": false,
    "editable": false,
    "nbgrader": {
     "cell_type": "markdown",
     "checksum": "1763f35098aedc40398a55b72eea5de9",
     "grade": false,
     "grade_id": "cell-592514d0abb550f9",
     "locked": true,
     "schema_version": 3,
     "solution": false,
     "task": false
    },
    "tags": []
   },
   "source": [
    "**(Question)** Shuffle and split the dataset into training (75%) and validation (25%) sets. Store the results into variables `X_train`, `y_train`, `X_valid`, `y_valid`.\n",
    "\n",
    "*Hint:* you can use `rng.permutation` to generate a random permutation of the points."
   ]
  },
  {
   "cell_type": "code",
   "execution_count": 16,
   "id": "ea383011",
   "metadata": {
    "deletable": false,
    "nbgrader": {
     "cell_type": "code",
     "checksum": "5ac28a81d79677168b18c7867af37906",
     "grade": false,
     "grade_id": "train-valid-split",
     "locked": false,
     "schema_version": 3,
     "solution": true,
     "task": false
    },
    "tags": []
   },
   "outputs": [],
   "source": [
    "# YOUR CODE HERE\n",
    "\n",
    "rng = np.random.default_rng()\n",
    "indexes = [ i for i in range(len(X)) ]\n",
    "p_indexes = rng.permutation(indexes)\n",
    "\n",
    "X_p = X[p_indexes]\n",
    "y_p = y_noisy[p_indexes]\n",
    "\n",
    "n = len(X_p)\n",
    "i_75 = int(0.75*n)\n",
    "\n",
    "\n",
    "X_train = X_p[:i_75]\n",
    "y_train = y_p[:i_75]\n",
    "\n",
    "X_valid = X_p[i_75:]\n",
    "y_valid = y_p[i_75:]"
   ]
  },
  {
   "cell_type": "code",
   "execution_count": 17,
   "id": "8a33f7b2-d77d-4a2b-b723-c1c9b707addc",
   "metadata": {
    "deletable": false,
    "editable": false,
    "nbgrader": {
     "cell_type": "code",
     "checksum": "2d40bc22a80eedcfce136a6136d71a94",
     "grade": true,
     "grade_id": "train-valid-split-tests",
     "locked": true,
     "points": 1,
     "schema_version": 3,
     "solution": false,
     "task": false
    },
    "tags": []
   },
   "outputs": [],
   "source": [
    "assert X_train.shape == (75,)\n",
    "assert y_train.shape == (75,)\n",
    "assert X_valid.shape == (25,)\n",
    "assert y_valid.shape == (25,)\n",
    "assert np.any(X_valid != X[75:]) # points should be shuffled"
   ]
  },
  {
   "cell_type": "markdown",
   "id": "db2d33dc-d3f2-4e79-814d-2a90a6b4aa09",
   "metadata": {
    "deletable": false,
    "editable": false,
    "nbgrader": {
     "cell_type": "markdown",
     "checksum": "80754b0c31ee2eeee212a89a87c2331a",
     "grade": false,
     "grade_id": "cell-a50781303dbb0b89",
     "locked": true,
     "schema_version": 3,
     "solution": false,
     "task": false
    },
    "tags": []
   },
   "source": [
    "### 2. Linear regression in 1D\n",
    "\n",
    "Recall the 1D linear regression model, where we search for parameters $w_0, w_1$ that will satisfy $y_i = w_0 + w_1 x_i$ (for all $i$ in the training set).\n",
    "\n",
    "To simplify calculations, we usually set $\\textbf{w} = [w_0, w_1]^T$ and $\\textbf{x}_i = [1, x_i]^T$.\n",
    "\n",
    "Then we have $y_i = \\textbf{w}^T \\textbf{x}_i $."
   ]
  },
  {
   "cell_type": "markdown",
   "id": "fbf33cae",
   "metadata": {
    "deletable": false,
    "editable": false,
    "nbgrader": {
     "cell_type": "markdown",
     "checksum": "2375cb0786713962b9aac46a09c94784",
     "grade": false,
     "grade_id": "cell-00faf05cb395d4cb",
     "locked": true,
     "schema_version": 3,
     "solution": false,
     "task": false
    },
    "tags": []
   },
   "source": [
    "**(Question)** Add a column with ones to the points in `X_train` and `X_valid`. Store the result in new variables `X_train_ones` and `X_valid_ones`:"
   ]
  },
  {
   "cell_type": "code",
   "execution_count": 24,
   "id": "b254912c",
   "metadata": {
    "deletable": false,
    "nbgrader": {
     "cell_type": "code",
     "checksum": "29817cde0841dbbfaeb339c7ea721300",
     "grade": true,
     "grade_id": "stack-one",
     "locked": false,
     "points": 1,
     "schema_version": 3,
     "solution": true,
     "task": false
    },
    "tags": []
   },
   "outputs": [],
   "source": [
    "# YOUR CODE HERE\n",
    "\n",
    "X_train_ones = np.column_stack((np.ones(len(X_train)),X_train))\n",
    "X_valid_ones = np.column_stack((np.ones(len(X_valid)),X_valid))\n",
    "\n"
   ]
  },
  {
   "cell_type": "markdown",
   "id": "04d97fd7",
   "metadata": {
    "deletable": false,
    "editable": false,
    "nbgrader": {
     "cell_type": "markdown",
     "checksum": "9b5c6a9eed69c0176b2f7c6ac179e958",
     "grade": false,
     "grade_id": "cell-e585b2cb96ff6c9f",
     "locked": true,
     "schema_version": 3,
     "solution": false,
     "task": false
    },
    "tags": []
   },
   "source": [
    "**(Question)** Use normal equations to find the parameters that minimize the mean squared error on the training set."
   ]
  },
  {
   "cell_type": "code",
   "execution_count": 29,
   "id": "c13562da-c082-4e9f-b4e3-f989988bd6ab",
   "metadata": {
    "deletable": false,
    "nbgrader": {
     "cell_type": "code",
     "checksum": "7febcd7c3a98df1b78caf6c2bb45ee34",
     "grade": false,
     "grade_id": "solve-w",
     "locked": false,
     "schema_version": 3,
     "solution": true,
     "task": false
    },
    "tags": []
   },
   "outputs": [
    {
     "name": "stdout",
     "output_type": "stream",
     "text": [
      "[-0.13027733  0.77052582]\n"
     ]
    }
   ],
   "source": [
    "# YOUR CODE HERE\n",
    "XTX = np.dot(np.transpose(X_train_ones), X_train_ones)\n",
    "XTX_1 = np.linalg.inv(XTX)\n",
    "XTX_1XT = XTX_1 @ np.transpose(X_train_ones)\n",
    "w = np.dot(XTX_1XT, y_train)\n",
    "\n",
    "print(W_op)\n"
   ]
  },
  {
   "cell_type": "code",
   "execution_count": 30,
   "id": "cb72d20d",
   "metadata": {
    "deletable": false,
    "editable": false,
    "nbgrader": {
     "cell_type": "code",
     "checksum": "aa41553e609fb4afac175ddf1298dd62",
     "grade": true,
     "grade_id": "solve-w-tests",
     "locked": true,
     "points": 1,
     "schema_version": 3,
     "solution": false,
     "task": false
    },
    "tags": []
   },
   "outputs": [],
   "source": [
    "assert w.shape == (2,)"
   ]
  },
  {
   "cell_type": "markdown",
   "id": "870f4028",
   "metadata": {
    "deletable": false,
    "editable": false,
    "nbgrader": {
     "cell_type": "markdown",
     "checksum": "5636b8ccbed864487e7384bc01ae8ab0",
     "grade": false,
     "grade_id": "plot-fit",
     "locked": true,
     "points": 2,
     "schema_version": 3,
     "solution": false,
     "task": true
    },
    "tags": []
   },
   "source": [
    "**(Question)** Plot the fitted line on top of the data points. Explain the result. (complete the code and answer in the cell below)"
   ]
  },
  {
   "cell_type": "code",
   "execution_count": 35,
   "id": "3e191cf0",
   "metadata": {
    "deletable": false,
    "nbgrader": {
     "cell_type": "code",
     "checksum": "c1a7cd1c8b02e6b8554e3a39e27b0be4",
     "grade": true,
     "grade_id": "cell-9fc189849b7c1c95",
     "locked": false,
     "points": 0,
     "schema_version": 3,
     "solution": true,
     "task": false
    },
    "tags": []
   },
   "outputs": [
    {
     "data": {
      "image/png": "[encoded data removed]",
      "text/plain": [
       "<Figure size 640x480 with 1 Axes>"
      ]
     },
     "metadata": {},
     "output_type": "display_data"
    }
   ],
   "source": [
    "# YOUR CODE HERE\n",
    "fitted_x = np.linspace(-3,3,100)\n",
    "fitted_y = [w[0]+w[1]*x for x in fitted_x]\n",
    "\n",
    "plt.plot(fitted_x, fitted_y, c='red')\n",
    "plt.scatter(X_train, y_train)\n",
    "plt.show()"
   ]
  },
  {
   "cell_type": "markdown",
   "id": "12f3fdbd-8e82-4a00-a6fc-7abe8f72f470",
   "metadata": {
    "deletable": false,
    "nbgrader": {
     "cell_type": "markdown",
     "checksum": "9a43c31d790d5ba4cd33b69f4c42de1f",
     "grade": true,
     "grade_id": "cell-2811bfa6b2ec3501",
     "locked": false,
     "points": 0,
     "schema_version": 3,
     "solution": true,
     "task": false
    },
    "tags": []
   },
   "source": [
    "YOUR ANSWER HERE"
   ]
  },
  {
   "cell_type": "markdown",
   "id": "3e1d6b77",
   "metadata": {
    "deletable": false,
    "editable": false,
    "nbgrader": {
     "cell_type": "markdown",
     "checksum": "cad31134bac8876f7b401a3e95c2d5ca",
     "grade": false,
     "grade_id": "plot-loss",
     "locked": true,
     "points": 2,
     "schema_version": 3,
     "solution": false,
     "task": true
    },
    "tags": []
   },
   "source": [
    "**(Question)** Plot the loss function landscape. What can you conclude from this visualization? (complete the code and answer in the cell below)\n",
    "\n",
    "*Hint: the loss landscape can be represented by a 2D map (for example of size 100x100) where in each coordinate $(w_0, w_1)$ the value is mean squared error for these parameters. You can use `plt.contourf` to visualize the result.*"
   ]
  },
  {
   "cell_type": "code",
   "execution_count": 57,
   "id": "82e92316",
   "metadata": {
    "deletable": false,
    "nbgrader": {
     "cell_type": "code",
     "checksum": "0509691e6196b12131104986b413a489",
     "grade": true,
     "grade_id": "cell-5a7320a1abb19319",
     "locked": false,
     "points": 0,
     "schema_version": 3,
     "solution": true,
     "task": false
    },
    "tags": []
   },
   "outputs": [
    {
     "data": {
      "text/plain": [
       "<matplotlib.colorbar.Colorbar at 0x7f91c92e30d0>"
      ]
     },
     "execution_count": 57,
     "metadata": {},
     "output_type": "execute_result"
    },
    {
     "data": {
      "image/png": "[encoded data removed]",
      "text/plain": [
       "<Figure size 640x480 with 2 Axes>"
      ]
     },
     "metadata": {},
     "output_type": "display_data"
    }
   ],
   "source": [
    "# YOUR CODE HERE\n",
    "\n",
    "def Cost_for_contourf(w0, w1, X, y):\n",
    "    W = np.row_stack((w0, w1))\n",
    "    X = np.column_stack((np.ones(len(X)),X))\n",
    "    y_hat = np.dot(X, W)\n",
    "    y_hat_columns = [y_hat[:,i] for i in range(y_hat.shape[1])]\n",
    "    cost = [np.linalg.norm(y_hat_i-y) for y_hat_i in y_hat_columns]\n",
    "    return cost\n",
    "\n",
    "w0 = np.linspace(-3, 3, 100)\n",
    "w1 = np.linspace(-3, 3, 100)\n",
    "\n",
    "W0, W1 = np.meshgrid(w0, w1)\n",
    "\n",
    "initial_shape = W0.shape\n",
    "\n",
    "\n",
    "W0 = W0.ravel()\n",
    "W1 = W1.ravel()\n",
    "Z = np.array(Cost_for_contourf(W0, W1, X_train, y_train))\n",
    "\n",
    "W0 = W0.reshape(initial_shape)\n",
    "W1 = W1.reshape(initial_shape)\n",
    "Z = Z.reshape(initial_shape)\n",
    "\n",
    "\n",
    "plt.contourf(W0, W1, Z, 20, cmap='plasma')\n",
    "plt.plot([w[0]],[w[1]],'o')\n",
    "plt.text(\n",
    "plt.colorbar()"
   ]
  },
  {
   "cell_type": "markdown",
   "id": "f070b78b",
   "metadata": {
    "deletable": false,
    "nbgrader": {
     "cell_type": "markdown",
     "checksum": "2fab9a205962a9ebf17d17c0172c4311",
     "grade": true,
     "grade_id": "cell-d477d2d900a8b2e5",
     "locked": false,
     "points": 0,
     "schema_version": 3,
     "solution": true,
     "task": false
    },
    "tags": []
   },
   "source": [
    "YOUR ANSWER HERE"
   ]
  },
  {
   "cell_type": "markdown",
   "id": "b7a97e54",
   "metadata": {
    "deletable": false,
    "editable": false,
    "nbgrader": {
     "cell_type": "markdown",
     "checksum": "968e9d4eb788317fe97c6fa98d51cbb3",
     "grade": false,
     "grade_id": "cell-9d81b70df8d2f2fd",
     "locked": true,
     "schema_version": 3,
     "solution": false,
     "task": false
    },
    "tags": []
   },
   "source": [
    "### 3. Polynomial linear regression\n",
    "\n",
    "We move on the polynomial linear regression model with degree $D$, where the relationship between $y_i$ and $x_i$ is\n",
    "$ y_i = w_0 + w_1x_i + w_2x_i^2 + \\ldots + w_D x_i^D $\n",
    "\n",
    "With $\\textbf{w} = [w_0, \\ldots, w_D]^T$ and $\\textbf{x}_i = [1, x_i, x_i^2, \\ldots, x_i^D]^T$, we have $y_i = \\textbf{w}^T \\textbf{x}_i $.\n",
    "\n",
    "$D \\geq 1$ is an hyperparameter of the model."
   ]
  },
  {
   "cell_type": "markdown",
   "id": "d34b43a7-9665-4b23-b2d9-eef530f89faa",
   "metadata": {
    "deletable": false,
    "editable": false,
    "nbgrader": {
     "cell_type": "markdown",
     "checksum": "a7a358605f794eeb7b9a178469ec43bb",
     "grade": false,
     "grade_id": "cell-81be175807d22f40",
     "locked": true,
     "schema_version": 3,
     "solution": false,
     "task": false
    },
    "tags": []
   },
   "source": [
    "**(Question)** Complete the following `PolynomialRegression` class"
   ]
  },
  {
   "cell_type": "code",
   "execution_count": null,
   "id": "28079bb8-3bf3-4cde-8107-c71dff9a399b",
   "metadata": {
    "deletable": false,
    "nbgrader": {
     "cell_type": "code",
     "checksum": "571a0e74677fee6e602a2539eb0d97f9",
     "grade": true,
     "grade_id": "polynomial-regression",
     "locked": false,
     "points": 2,
     "schema_version": 3,
     "solution": true,
     "task": false
    },
    "tags": []
   },
   "outputs": [],
   "source": [
    "class PolynomialRegression():\n",
    "    def __init__(self, D=1):\n",
    "        assert D >=1\n",
    "        self.D = D\n",
    "        \n",
    "    def fit(self, X, y):\n",
    "        '''Apply polynomial linear regression to fit `X` to `y`.\n",
    "        The result should be stored in an attribute `w`.'''\n",
    "        # YOUR CODE HERE\n",
    "        raise NotImplementedError()\n",
    "        \n",
    "    def predict(self, X):\n",
    "        '''Assuming the model has already been fit, return\n",
    "        predicted `y` values for given `X`.'''\n",
    "        # YOUR CODE HERE\n",
    "        raise NotImplementedError()\n",
    "\n",
    "    def make_poly(self, X):\n",
    "        '''Augment a dataset of 1D points (vector of size N) to its\n",
    "        data matrix in polynomial form, including the zero column \n",
    "        (matrix of size N x D+1). Return the data matrix.'''\n",
    "        assert X.ndim == 1\n",
    "        # YOUR CODE HERE\n",
    "        raise NotImplementedError()"
   ]
  },
  {
   "cell_type": "markdown",
   "id": "3e86708c",
   "metadata": {
    "deletable": false,
    "editable": false,
    "nbgrader": {
     "cell_type": "markdown",
     "checksum": "caaabea2ec7c465b326338f85b7b3830",
     "grade": false,
     "grade_id": "cell-134419d23b4fc5cd",
     "locked": true,
     "schema_version": 3,
     "solution": false,
     "task": false
    },
    "tags": []
   },
   "source": [
    "**(Question)** Implement the mean squared error function to measure the quality of predictions."
   ]
  },
  {
   "cell_type": "code",
   "execution_count": null,
   "id": "7a9c94b7",
   "metadata": {
    "deletable": false,
    "nbgrader": {
     "cell_type": "code",
     "checksum": "f037b0820c1ecfdfe6d4e82568bfbf01",
     "grade": false,
     "grade_id": "mse",
     "locked": false,
     "schema_version": 3,
     "solution": true,
     "task": false
    },
    "tags": []
   },
   "outputs": [],
   "source": [
    "def mean_squared_error(y_true, y_pred):\n",
    "    '''Return the mean squared error between `y_true` and `y_pred`.'''\n",
    "    assert y_true.shape == y_pred.shape\n",
    "    # YOUR CODE HERE\n",
    "    raise NotImplementedError()"
   ]
  },
  {
   "cell_type": "code",
   "execution_count": null,
   "id": "e60be97a",
   "metadata": {
    "deletable": false,
    "editable": false,
    "nbgrader": {
     "cell_type": "code",
     "checksum": "c6a43c39fc1cfa77be1a21833fc5386b",
     "grade": true,
     "grade_id": "mse-tests",
     "locked": true,
     "points": 1,
     "schema_version": 3,
     "solution": false,
     "task": false
    },
    "tags": []
   },
   "outputs": [],
   "source": [
    "a, b = np.random.randn(10), np.random.randn(10)\n",
    "assert mean_squared_error(a, b) >= 0.\n",
    "assert mean_squared_error(a, a) == 0."
   ]
  },
  {
   "cell_type": "markdown",
   "id": "85f497eb",
   "metadata": {
    "deletable": false,
    "editable": false,
    "nbgrader": {
     "cell_type": "markdown",
     "checksum": "6f5d068c99a260e5f9a449f7e7514d21",
     "grade": false,
     "grade_id": "cell-efa1920e97836d98",
     "locked": true,
     "schema_version": 3,
     "solution": false,
     "task": false
    },
    "tags": []
   },
   "source": [
    "**(Question)** Apply the polynomial regression model with $D=5$. Compute and print the mean squared error for the training and validation sets."
   ]
  },
  {
   "cell_type": "code",
   "execution_count": null,
   "id": "fa711040",
   "metadata": {
    "deletable": false,
    "nbgrader": {
     "cell_type": "code",
     "checksum": "0ec8b59c54094ddfea8303d421beb6a7",
     "grade": true,
     "grade_id": "apply-polyreg",
     "locked": false,
     "points": 1,
     "schema_version": 3,
     "solution": true,
     "task": false
    },
    "tags": []
   },
   "outputs": [],
   "source": [
    "# YOUR CODE HERE\n",
    "raise NotImplementedError()"
   ]
  },
  {
   "cell_type": "markdown",
   "id": "93453e6f",
   "metadata": {
    "deletable": false,
    "editable": false,
    "nbgrader": {
     "cell_type": "markdown",
     "checksum": "7937911223ee22e1af8dd591041e5ec6",
     "grade": false,
     "grade_id": "plot-polyreg",
     "locked": true,
     "points": 1,
     "schema_version": 3,
     "solution": false,
     "task": true
    },
    "tags": []
   },
   "source": [
    "**(Question)** Plot the fitted polynomial curve on top of the data points. Explain the result. (complete the code and answer in the cell below)"
   ]
  },
  {
   "cell_type": "code",
   "execution_count": null,
   "id": "18e873c6",
   "metadata": {
    "deletable": false,
    "nbgrader": {
     "cell_type": "code",
     "checksum": "4e31887b59bf417e843a006aead28342",
     "grade": true,
     "grade_id": "cell-850ac8c17b9b160a",
     "locked": false,
     "points": 0,
     "schema_version": 3,
     "solution": true,
     "task": false
    },
    "tags": []
   },
   "outputs": [],
   "source": [
    "# YOUR CODE HERE\n",
    "raise NotImplementedError()"
   ]
  },
  {
   "cell_type": "markdown",
   "id": "cf75f7b1-c39c-41b8-9717-c4b8d61d05ac",
   "metadata": {
    "deletable": false,
    "nbgrader": {
     "cell_type": "markdown",
     "checksum": "6d8f750e56b7e818e78164360450ea70",
     "grade": true,
     "grade_id": "cell-179ac722397feeab",
     "locked": false,
     "points": 0,
     "schema_version": 3,
     "solution": true,
     "task": false
    },
    "tags": []
   },
   "source": [
    "YOUR ANSWER HERE"
   ]
  },
  {
   "cell_type": "markdown",
   "id": "3c2a0d9a",
   "metadata": {
    "deletable": false,
    "editable": false,
    "nbgrader": {
     "cell_type": "markdown",
     "checksum": "4084752652a833d92ec16d124f122e82",
     "grade": false,
     "grade_id": "model-selection",
     "locked": true,
     "points": 2,
     "schema_version": 3,
     "solution": false,
     "task": true
    },
    "tags": []
   },
   "source": [
    "**(Question)** Using the validation set, implement a simple model selection strategy to optimize hyperparameter $D$ and print this value. For this question, you should limit the search to $D \\in [1, 15]$.\n",
    "To visualize potential underfitting and overfitting effects, plot the evolution of the error on the training and the validation sets for the different values of $D$."
   ]
  },
  {
   "cell_type": "code",
   "execution_count": null,
   "id": "7e971843-58fb-43e2-9d86-b8a263600d28",
   "metadata": {
    "deletable": false,
    "nbgrader": {
     "cell_type": "code",
     "checksum": "bd275b9b9db0e827b8c0fd6e54b5d11d",
     "grade": true,
     "grade_id": "cell-41640ccdf206336f",
     "locked": false,
     "points": 0,
     "schema_version": 3,
     "solution": true,
     "task": false
    },
    "tags": []
   },
   "outputs": [],
   "source": [
    "# YOUR CODE HERE\n",
    "raise NotImplementedError()"
   ]
  },
  {
   "cell_type": "markdown",
   "id": "006fc507",
   "metadata": {
    "deletable": false,
    "editable": false,
    "nbgrader": {
     "cell_type": "markdown",
     "checksum": "667ce4fb6c08f2bdf25deb104694054a",
     "grade": false,
     "grade_id": "model-selection-plot",
     "locked": true,
     "points": 1,
     "schema_version": 3,
     "solution": false,
     "task": true
    },
    "tags": []
   },
   "source": [
    "**(Question)** Plot the fitted polynomial curve of the best model on top of the data points. Comment the results."
   ]
  },
  {
   "cell_type": "code",
   "execution_count": null,
   "id": "7101773d",
   "metadata": {
    "deletable": false,
    "nbgrader": {
     "cell_type": "code",
     "checksum": "642145dfb333b607ceb8f6327cb4700b",
     "grade": true,
     "grade_id": "cell-0bdafbf3133605ca",
     "locked": false,
     "points": 0,
     "schema_version": 3,
     "solution": true,
     "task": false
    },
    "tags": []
   },
   "outputs": [],
   "source": [
    "# YOUR CODE HERE\n",
    "raise NotImplementedError()"
   ]
  },
  {
   "cell_type": "markdown",
   "id": "de6c08a8-993d-4273-8235-d75adaa8e672",
   "metadata": {
    "deletable": false,
    "nbgrader": {
     "cell_type": "markdown",
     "checksum": "bce9e5800af711377a8c64273a8ce55b",
     "grade": true,
     "grade_id": "cell-a69e4cdfce15e1cd",
     "locked": false,
     "points": 0,
     "schema_version": 3,
     "solution": true,
     "task": false
    },
    "tags": []
   },
   "source": [
    "YOUR ANSWER HERE"
   ]
  },
  {
   "cell_type": "markdown",
   "id": "b62eef27",
   "metadata": {
    "deletable": false,
    "editable": false,
    "nbgrader": {
     "cell_type": "markdown",
     "checksum": "c91dec77063c80e227ec871955ce3a4f",
     "grade": false,
     "grade_id": "cell-7e102b957010a338",
     "locked": true,
     "schema_version": 3,
     "solution": false,
     "task": false
    }
   },
   "source": [
    "### 4. Regularized polynomial regression\n",
    "\n",
    "Now, we want to implement polynomial regression with *weight decay* regularization:\n",
    "$\\hat{L}(\\textbf{w}) = \\frac{1}{N} \\lVert \\textbf{X} \\textbf{w} - \\textbf{y} \\rVert^2 + \\lambda \\lVert\\textbf{w}\\rVert^2$\n",
    "\n",
    "Here, $\\lambda \\geq 0$ is another hyperparameter of our model."
   ]
  },
  {
   "cell_type": "markdown",
   "id": "e36924b2-cfb1-478d-8afc-0578f209408f",
   "metadata": {
    "deletable": false,
    "editable": false,
    "nbgrader": {
     "cell_type": "markdown",
     "checksum": "f38f56b968985daedf38995031e67558",
     "grade": false,
     "grade_id": "cell-de3277f460f5b4ae",
     "locked": true,
     "schema_version": 3,
     "solution": false,
     "task": false
    }
   },
   "source": [
    "**(Question)** Complete the following `RegularizedPolynomialRegression` class."
   ]
  },
  {
   "cell_type": "code",
   "execution_count": 74,
   "id": "a371d80b",
   "metadata": {
    "deletable": false,
    "nbgrader": {
     "cell_type": "code",
     "checksum": "56dc626b44cc0d682701a47a456c45bc",
     "grade": true,
     "grade_id": "polyreg-regularized",
     "locked": false,
     "points": 1,
     "schema_version": 3,
     "solution": true,
     "task": false
    },
    "tags": []
   },
   "outputs": [],
   "source": [
    "class RegularizedPolynomialRegression():\n",
    "    def __init__(self, D=1, lmbda=1.):\n",
    "        assert D >=1 and lmbda >= 0.\n",
    "        self.D = D\n",
    "        self.lmbda = lmbda\n",
    "        \n",
    "    def fit(self, X, y):\n",
    "        '''Apply polynomial linear regression to fit `X` to `y`.\n",
    "        The result should be stored in an attribute `w`.'''\n",
    "        # YOUR CODE HERE\n",
    "        lmbdaI = self.lmbda * np.eye(self.D+1)\n",
    "        X = self.make_poly(X)\n",
    "        XTX = np.dot(np.transpose(X),X)\n",
    "        XTXPlusLmbdaI = XTX + lmbdaI\n",
    "        XTX_1 = np.linalg.inv(XTXPlusLmbdaI)\n",
    "        XTX_1XT = np.dot(XTX_1, np.transpose(X))\n",
    "        XTX_1XTy = np.dot(XTX_1XT, y)\n",
    "\n",
    "        self.w = XTX_1XTy\n",
    "        \n",
    "        \n",
    "    def predict(self, X):\n",
    "        '''Assuming the model has already been fit, return\n",
    "        predicted `y` values for given `X`.'''\n",
    "        # YOUR CODE HERE\n",
    "        X = self.make_poly(X)\n",
    "\n",
    "        return np.dot(X, self.w)\n",
    "\n",
    "    def make_poly(self, X):\n",
    "        '''Augment a dataset of 1D points (vector of size N) to its\n",
    "        data matrix in polynomial form, including the zero column \n",
    "        (matrix of size N x D+1). Return the data matrix.'''\n",
    "        assert X.ndim == 1\n",
    "        Poly_data = np.zeros((len(X), self.D+1))\n",
    "        for i in range(len(X)):\n",
    "            for j in range(self.D+1):\n",
    "                Poly_data[i,j] = X[i]**j\n",
    "        return Poly_data"
   ]
  },
  {
   "cell_type": "markdown",
   "id": "bf5a876e-aba2-48c3-ba84-5a2e9404b223",
   "metadata": {
    "deletable": false,
    "editable": false,
    "nbgrader": {
     "cell_type": "markdown",
     "checksum": "d91fae5b44860437ba4925f2086c36a9",
     "grade": false,
     "grade_id": "cell-103fd01e4f18bd87",
     "locked": true,
     "points": 1,
     "schema_version": 3,
     "solution": false,
     "task": true
    },
    "tags": []
   },
   "source": [
    "**(Question)** Apply regularized linear regression and play around with hyperparameters $D$ and $\\lambda$. Plot the result."
   ]
  },
  {
   "cell_type": "code",
   "execution_count": 75,
   "id": "88fe896e",
   "metadata": {
    "deletable": false,
    "nbgrader": {
     "cell_type": "code",
     "checksum": "5f5eae1bc71edbe859dacfc8885fca39",
     "grade": true,
     "grade_id": "apply-polyreg-regularized",
     "locked": false,
     "points": 0,
     "schema_version": 3,
     "solution": true,
     "task": false
    },
    "tags": []
   },
   "outputs": [
    {
     "name": "stdout",
     "output_type": "stream",
     "text": [
      "1\n"
     ]
    },
    {
     "data": {
      "image/png": "[encoded data removed]",
      "text/plain": [
       "<Figure size 640x480 with 1 Axes>"
      ]
     },
     "metadata": {},
     "output_type": "display_data"
    }
   ],
   "source": [
    "# YOUR CODE HERE\n",
    "regularized_model = RegularizedPolynomialRegression()\n",
    "regularized_model.fit(X_train, y_train)\n",
    "\n",
    "X0 = np.linspace(-3, 3, 100)\n",
    "print(X0.ndim)\n",
    "\n",
    "y_pred = regularized_model.predict(X0)\n",
    "\n",
    "\n",
    "plt.plot(X_train, y_train, 'o')\n",
    "plt.plot(X0, y_pred, c='red')\n",
    "plt.show()\n"
   ]
  },
  {
   "cell_type": "markdown",
   "id": "a2bd5618",
   "metadata": {
    "deletable": false,
    "editable": false,
    "nbgrader": {
     "cell_type": "markdown",
     "checksum": "6a9791858a9681769a35da95bb0a2869",
     "grade": false,
     "grade_id": "cell-3f87566482994138",
     "locked": true,
     "schema_version": 3,
     "solution": false,
     "task": false
    },
    "tags": []
   },
   "source": [
    "### 5. Comparison with `sklearn`"
   ]
  },
  {
   "cell_type": "code",
   "execution_count": null,
   "id": "b019657b",
   "metadata": {
    "deletable": false,
    "editable": false,
    "nbgrader": {
     "cell_type": "code",
     "checksum": "5f39768d5d809efe729c6348b425f9c1",
     "grade": false,
     "grade_id": "cell-2214d7d896066539",
     "locked": true,
     "schema_version": 3,
     "solution": false,
     "task": false
    },
    "tags": []
   },
   "outputs": [],
   "source": [
    "from sklearn.preprocessing import PolynomialFeatures\n",
    "from sklearn.linear_model import LinearRegression, Ridge"
   ]
  },
  {
   "cell_type": "markdown",
   "id": "4e22cfd9-90c9-4ba5-949e-c4364c4f5901",
   "metadata": {
    "deletable": false,
    "editable": false,
    "nbgrader": {
     "cell_type": "markdown",
     "checksum": "19ce745d956bfe4057a36c4df7af9bc6",
     "grade": false,
     "grade_id": "sklearn-comparison",
     "locked": true,
     "points": 2,
     "schema_version": 3,
     "solution": false,
     "task": true
    },
    "tags": []
   },
   "source": [
    "**(Question)** Use the `sklearn` classes imported above to apply polynomial regression on our toy dataset. Compare the results with your implementation and comment."
   ]
  },
  {
   "cell_type": "code",
   "execution_count": null,
   "id": "b6c22765",
   "metadata": {
    "deletable": false,
    "nbgrader": {
     "cell_type": "code",
     "checksum": "ae98694413091539f1dab415f676c189",
     "grade": true,
     "grade_id": "cell-0aa9e5838da9ea0c",
     "locked": false,
     "points": 0,
     "schema_version": 3,
     "solution": true,
     "task": false
    },
    "tags": []
   },
   "outputs": [],
   "source": [
    "# YOUR CODE HERE\n",
    "raise NotImplementedError()"
   ]
  },
  {
   "cell_type": "code",
   "execution_count": null,
   "id": "35e45343-959f-4d81-b758-ec5b31b0023a",
   "metadata": {
    "deletable": false,
    "nbgrader": {
     "cell_type": "code",
     "checksum": "9ccf1708eb35710177ef2af7ef58d46f",
     "grade": true,
     "grade_id": "cell-6dab57b6bf3e3228",
     "locked": false,
     "points": 0,
     "schema_version": 3,
     "solution": true,
     "task": false
    }
   },
   "outputs": [],
   "source": [
    "# YOUR CODE HERE\n",
    "raise NotImplementedError()"
   ]
  }
 ],
 "metadata": {
  "kernelspec": {
   "display_name": "Python 3 (ipykernel)",
   "language": "python",
   "name": "python3"
  },
  "language_info": {
   "codemirror_mode": {
    "name": "ipython",
    "version": 3
   },
   "file_extension": ".py",
   "mimetype": "text/x-python",
   "name": "python",
   "nbconvert_exporter": "python",
   "pygments_lexer": "ipython3",
   "version": "3.10.12"
  }
 },
 "nbformat": 4,
 "nbformat_minor": 5
}
